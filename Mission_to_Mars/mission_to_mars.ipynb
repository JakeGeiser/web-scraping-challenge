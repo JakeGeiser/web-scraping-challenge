{
 "cells": [
  {
   "cell_type": "code",
   "execution_count": 88,
   "metadata": {},
   "outputs": [],
   "source": [
    "from splinter import Browser\n",
    "from bs4 import BeautifulSoup as bs\n",
    "import pandas as pd"
   ]
  },
  {
   "cell_type": "markdown",
   "metadata": {},
   "source": [
    "# NASA Mars News"
   ]
  },
  {
   "cell_type": "code",
   "execution_count": 59,
   "metadata": {},
   "outputs": [
    {
     "name": "stdout",
     "output_type": "stream",
     "text": [
      "NASA Readies Perseverance Mars Rover's Earthly Twin \n",
      "Did you know NASA's next Mars rover has a nearly identical sibling on Earth for testing? Even better, it's about to roll for the first time through a replica Martian landscape.\n"
     ]
    }
   ],
   "source": [
    "# Initiate headless driver for deployment\n",
    "browser = Browser(\"chrome\", executable_path=\"chromedriver\", headless=True)\n",
    "# Scrape Mars News\n",
    "# Visit the mars nasa news site\n",
    "url = 'https://mars.nasa.gov/news/'\n",
    "browser.visit(url)\n",
    "\n",
    "# Optional delay for loading the page\n",
    "browser.is_element_present_by_css(\"ul.item_list li.slide\", wait_time=1)\n",
    "\n",
    "# Convert the browser html to a soup object and then quit the browser\n",
    "html = browser.html\n",
    "news_soup = bs(html, 'html.parser')\n",
    "# Add try/except for error handling\n",
    "\n",
    "try:\n",
    "    slide_elem = news_soup.select_one(\"ul.item_list li.slide\")\n",
    "    # Use the parent element to find the first 'a' tag and save it as 'news_title'\n",
    "    news_title = slide_elem.find(\"div\", class_=\"content_title\").get_text()\n",
    "    # Use the parent element to find the paragraph text\n",
    "    news_p = slide_elem.find(\"div\", class_=\"article_teaser_body\").get_text()\n",
    "\n",
    "    print(news_title)\n",
    "    print(news_p)\n",
    "except AttributeError:\n",
    "    print(\"not found\")"
   ]
  },
  {
   "cell_type": "markdown",
   "metadata": {},
   "source": [
    "# JPL Mars Space Images"
   ]
  },
  {
   "cell_type": "code",
   "execution_count": 83,
   "metadata": {},
   "outputs": [],
   "source": [
    "# Initiate headless driver for deployment\n",
    "browser = Browser(\"chrome\", executable_path=\"chromedriver\", headless=True)\n",
    "# Scrape Mars News\n",
    "# Visit the JPL images site\n",
    "url = 'https://www.jpl.nasa.gov/spaceimages/?search=&category=Mars'\n",
    "browser.visit(url)\n",
    "\n",
    "# Add try/except for error handling\n",
    "try:\n",
    "    # Open the full image link\n",
    "    browser.click_link_by_partial_text('FULL IMAGE')\n",
    "except:\n",
    "    print(\"FULL IMAGE link not found\")\n",
    "\n",
    "# Optional delay for loading the page\n",
    "browser.is_element_present_by_css(\".fancybox-image\", wait_time=1)\n",
    "# Convert the browser html to a soup object and then quit the browser\n",
    "html = browser.html\n",
    "image_soup = bs(html, 'html.parser')\n",
    "\n",
    "try:\n",
    "    # grab image src and add onto site domain\n",
    "    image_link = image_soup.find(class_=\"fancybox-image\")['src']\n",
    "    featured_image_url = 'https://www.jpl.nasa.gov' + image_link\n",
    "except:\n",
    "    print(\"image not found\")"
   ]
  },
  {
   "cell_type": "code",
   "execution_count": 87,
   "metadata": {},
   "outputs": [
    {
     "name": "stdout",
     "output_type": "stream",
     "text": [
      "https://www.jpl.nasa.gov/spaceimages/images/mediumsize/PIA18614_ip.jpg\n"
     ]
    }
   ],
   "source": [
    "print(featured_image_url)"
   ]
  },
  {
   "cell_type": "markdown",
   "metadata": {},
   "source": [
    "# Mars Facts"
   ]
  },
  {
   "cell_type": "code",
   "execution_count": 98,
   "metadata": {},
   "outputs": [
    {
     "data": {
      "text/plain": [
       "'<table border=\"1\" class=\"dataframe\">  <tbody>    <tr>      <td>Equatorial Diameter:</td>      <td>6,792 km</td>    </tr>    <tr>      <td>Polar Diameter:</td>      <td>6,752 km</td>    </tr>    <tr>      <td>Mass:</td>      <td>6.39 × 10^23 kg (0.11 Earths)</td>    </tr>    <tr>      <td>Moons:</td>      <td>2 (Phobos &amp; Deimos)</td>    </tr>    <tr>      <td>Orbit Distance:</td>      <td>227,943,824 km (1.38 AU)</td>    </tr>    <tr>      <td>Orbit Period:</td>      <td>687 days (1.9 years)</td>    </tr>    <tr>      <td>Surface Temperature:</td>      <td>-87 to -5 °C</td>    </tr>    <tr>      <td>First Record:</td>      <td>2nd millennium BC</td>    </tr>    <tr>      <td>Recorded By:</td>      <td>Egyptian astronomers</td>    </tr>  </tbody></table>'"
      ]
     },
     "execution_count": 98,
     "metadata": {},
     "output_type": "execute_result"
    }
   ],
   "source": [
    "# scrape all tables from url\n",
    "url = 'https://space-facts.com/mars/'\n",
    "tables = pd.read_html(url)\n",
    "# grab the first table, the one we are interesed in using\n",
    "tabel = tables[0]\n",
    "# save the table as a file\n",
    "tabel.to_html('table.html',header=False,index=False)\n",
    "# store the table as a string\n",
    "tabel_html = tabel.to_html(header=False,index=False).replace('\\n','')\n",
    "tabel_html"
   ]
  },
  {
   "cell_type": "markdown",
   "metadata": {},
   "source": [
    "# Mars Hemispheres"
   ]
  },
  {
   "cell_type": "code",
   "execution_count": 133,
   "metadata": {},
   "outputs": [],
   "source": [
    "# Initiate headless driver for deployment\n",
    "browser = Browser(\"chrome\", executable_path=\"chromedriver\", headless=True)\n",
    "# Scrape Mars News\n",
    "# Visit the astrogeology site\n",
    "domain = 'https://astrogeology.usgs.gov'\n",
    "url = 'https://astrogeology.usgs.gov/search/results?q=hemisphere+enhanced&k1=target&v1=Mars'\n",
    "browser.visit(url)\n",
    "\n",
    "# Optional delay for loading the page\n",
    "browser.is_element_present_by_css(\".description .pubDate\", wait_time=1)\n",
    "# Convert the browser html to a soup object and then quit the browser\n",
    "html = browser.html\n",
    "astro_soup = bs(html, 'html.parser')\n",
    "# get links to all 4 hemispheres\n",
    "hemi_links_slides = astro_soup.find_all('div',class_='description')\n",
    "# get url links to all 4 hemispheres' pages\n",
    "hemi_links = []\n",
    "for slide in hemi_links_slides:\n",
    "    hemi_links.append(domain + slide.find('a')['href'])\n",
    "\n",
    "hemi_image_urls_titles = [] # for storing image info dictionaries\n",
    "# loop through each hemisphere url\n",
    "for url in hemi_links:\n",
    "    # connect to url\n",
    "    browser.visit(url)\n",
    "\n",
    "    # Optional delay for loading the page\n",
    "    browser.is_element_present_by_css(\".wide-image\", wait_time=1)\n",
    "    # Convert the browser html to a soup object and then quit the browser\n",
    "    html = browser.html\n",
    "    hemi_soup = bs(html, 'html.parser')\n",
    "    \n",
    "    # store title and link into list as a dicitonary\n",
    "    link = domain + hemi_soup.find(class_='wide-image')['src']\n",
    "    title = hemi_soup.find(class_='title').text\n",
    "    hemi_image_urls_titles.append({\"title\":title,\"img_url\":link})"
   ]
  },
  {
   "cell_type": "code",
   "execution_count": 134,
   "metadata": {},
   "outputs": [
    {
     "data": {
      "text/plain": [
       "[{'title': 'Cerberus Hemisphere Enhanced',\n",
       "  'img_url': 'https://astrogeology.usgs.gov/cache/images/f5e372a36edfa389625da6d0cc25d905_cerberus_enhanced.tif_full.jpg'},\n",
       " {'title': 'Schiaparelli Hemisphere Enhanced',\n",
       "  'img_url': 'https://astrogeology.usgs.gov/cache/images/3778f7b43bbbc89d6e3cfabb3613ba93_schiaparelli_enhanced.tif_full.jpg'},\n",
       " {'title': 'Syrtis Major Hemisphere Enhanced',\n",
       "  'img_url': 'https://astrogeology.usgs.gov/cache/images/555e6403a6ddd7ba16ddb0e471cadcf7_syrtis_major_enhanced.tif_full.jpg'},\n",
       " {'title': 'Valles Marineris Hemisphere Enhanced',\n",
       "  'img_url': 'https://astrogeology.usgs.gov/cache/images/b3c7c6c9138f57b4756be9b9c43e3a48_valles_marineris_enhanced.tif_full.jpg'}]"
      ]
     },
     "execution_count": 134,
     "metadata": {},
     "output_type": "execute_result"
    }
   ],
   "source": [
    "hemi_image_urls_titles"
   ]
  },
  {
   "cell_type": "code",
   "execution_count": null,
   "metadata": {},
   "outputs": [],
   "source": []
  }
 ],
 "metadata": {
  "kernelspec": {
   "display_name": "Python [conda env:PythonData] *",
   "language": "python",
   "name": "conda-env-PythonData-py"
  },
  "language_info": {
   "codemirror_mode": {
    "name": "ipython",
    "version": 3
   },
   "file_extension": ".py",
   "mimetype": "text/x-python",
   "name": "python",
   "nbconvert_exporter": "python",
   "pygments_lexer": "ipython3",
   "version": "3.6.10"
  }
 },
 "nbformat": 4,
 "nbformat_minor": 4
}
