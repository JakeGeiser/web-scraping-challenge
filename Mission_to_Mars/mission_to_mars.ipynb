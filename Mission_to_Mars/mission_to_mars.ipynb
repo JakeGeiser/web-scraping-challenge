{
 "cells": [
  {
   "cell_type": "code",
   "execution_count": 56,
   "metadata": {},
   "outputs": [],
   "source": [
    "from splinter import Browser\n",
    "from bs4 import BeautifulSoup as bs"
   ]
  },
  {
   "cell_type": "markdown",
   "metadata": {},
   "source": [
    "# NASA Mars News"
   ]
  },
  {
   "cell_type": "code",
   "execution_count": 59,
   "metadata": {},
   "outputs": [
    {
     "name": "stdout",
     "output_type": "stream",
     "text": [
      "NASA Readies Perseverance Mars Rover's Earthly Twin \n",
      "Did you know NASA's next Mars rover has a nearly identical sibling on Earth for testing? Even better, it's about to roll for the first time through a replica Martian landscape.\n"
     ]
    }
   ],
   "source": [
    "# Initiate headless driver for deployment\n",
    "browser = Browser(\"chrome\", executable_path=\"chromedriver\", headless=True)\n",
    "# Scrape Mars News\n",
    "# Visit the mars nasa news site\n",
    "url = 'https://mars.nasa.gov/news/'\n",
    "browser.visit(url)\n",
    "\n",
    "# Optional delay for loading the page\n",
    "browser.is_element_present_by_css(\"ul.item_list li.slide\", wait_time=1)\n",
    "\n",
    "# Convert the browser html to a soup object and then quit the browser\n",
    "html = browser.html\n",
    "news_soup = bs(html, 'html.parser')\n",
    "# Add try/except for error handling\n",
    "\n",
    "try:\n",
    "    slide_elem = news_soup.select_one(\"ul.item_list li.slide\")\n",
    "    # Use the parent element to find the first 'a' tag and save it as 'news_title'\n",
    "    news_title = slide_elem.find(\"div\", class_=\"content_title\").get_text()\n",
    "    # Use the parent element to find the paragraph text\n",
    "    news_p = slide_elem.find(\"div\", class_=\"article_teaser_body\").get_text()\n",
    "\n",
    "    print(news_title)\n",
    "    print(news_p)\n",
    "except AttributeError:\n",
    "    print(\"not found\")"
   ]
  },
  {
   "cell_type": "markdown",
   "metadata": {},
   "source": [
    "# JPL Mars Space Images"
   ]
  },
  {
   "cell_type": "code",
   "execution_count": 83,
   "metadata": {},
   "outputs": [],
   "source": [
    "# Initiate headless driver for deployment\n",
    "browser = Browser(\"chrome\", executable_path=\"chromedriver\", headless=True)\n",
    "# Scrape Mars News\n",
    "# Visit the JPL images site\n",
    "url = 'https://www.jpl.nasa.gov/spaceimages/?search=&category=Mars'\n",
    "browser.visit(url)\n",
    "\n",
    "# Add try/except for error handling\n",
    "try:\n",
    "    # Open the full image link\n",
    "    browser.click_link_by_partial_text('FULL IMAGE')\n",
    "except:\n",
    "    print(\"FULL IMAGE link not found\")\n",
    "\n",
    "# Optional delay for loading the page\n",
    "browser.is_element_present_by_css(\".fancybox-image\", wait_time=1)\n",
    "# Convert the browser html to a soup object and then quit the browser\n",
    "html = browser.html\n",
    "image_soup = bs(html, 'html.parser')\n",
    "\n",
    "try:\n",
    "    # grab image src and add onto site domain\n",
    "    image_link = image_soup.find(class_=\"fancybox-image\")['src']\n",
    "    featured_image_url = 'https://www.jpl.nasa.gov' + image_link\n",
    "except:\n",
    "    print(\"image not found\")"
   ]
  },
  {
   "cell_type": "code",
   "execution_count": 85,
   "metadata": {},
   "outputs": [
    {
     "data": {
      "text/plain": [
       "'https://www.jpl.nasa.gov/spaceimages/images/mediumsize/PIA18614_ip.jpg'"
      ]
     },
     "execution_count": 85,
     "metadata": {},
     "output_type": "execute_result"
    }
   ],
   "source": [
    "featured_image_url"
   ]
  },
  {
   "cell_type": "markdown",
   "metadata": {},
   "source": [
    "# Mars Facts"
   ]
  },
  {
   "cell_type": "code",
   "execution_count": null,
   "metadata": {},
   "outputs": [],
   "source": []
  }
 ],
 "metadata": {
  "kernelspec": {
   "display_name": "Python [conda env:PythonData] *",
   "language": "python",
   "name": "conda-env-PythonData-py"
  },
  "language_info": {
   "codemirror_mode": {
    "name": "ipython",
    "version": 3
   },
   "file_extension": ".py",
   "mimetype": "text/x-python",
   "name": "python",
   "nbconvert_exporter": "python",
   "pygments_lexer": "ipython3",
   "version": "3.6.10"
  }
 },
 "nbformat": 4,
 "nbformat_minor": 4
}
